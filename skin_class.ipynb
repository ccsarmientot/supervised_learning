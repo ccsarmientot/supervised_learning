{
 "cells": [
  {
   "cell_type": "markdown",
   "metadata": {},
   "source": [
    "### 1. Loading dependencies and data"
   ]
  },
  {
   "cell_type": "code",
   "execution_count": 1,
   "metadata": {},
   "outputs": [
    {
     "data": {
      "text/html": [
       "<div>\n",
       "<style scoped>\n",
       "    .dataframe tbody tr th:only-of-type {\n",
       "        vertical-align: middle;\n",
       "    }\n",
       "\n",
       "    .dataframe tbody tr th {\n",
       "        vertical-align: top;\n",
       "    }\n",
       "\n",
       "    .dataframe thead th {\n",
       "        text-align: right;\n",
       "    }\n",
       "</style>\n",
       "<table border=\"1\" class=\"dataframe\">\n",
       "  <thead>\n",
       "    <tr style=\"text-align: right;\">\n",
       "      <th></th>\n",
       "      <th>B</th>\n",
       "      <th>G</th>\n",
       "      <th>R</th>\n",
       "      <th>y</th>\n",
       "    </tr>\n",
       "  </thead>\n",
       "  <tbody>\n",
       "    <tr>\n",
       "      <th>0</th>\n",
       "      <td>74</td>\n",
       "      <td>85</td>\n",
       "      <td>123</td>\n",
       "      <td>1</td>\n",
       "    </tr>\n",
       "    <tr>\n",
       "      <th>1</th>\n",
       "      <td>73</td>\n",
       "      <td>84</td>\n",
       "      <td>122</td>\n",
       "      <td>1</td>\n",
       "    </tr>\n",
       "    <tr>\n",
       "      <th>2</th>\n",
       "      <td>72</td>\n",
       "      <td>83</td>\n",
       "      <td>121</td>\n",
       "      <td>1</td>\n",
       "    </tr>\n",
       "    <tr>\n",
       "      <th>3</th>\n",
       "      <td>70</td>\n",
       "      <td>81</td>\n",
       "      <td>119</td>\n",
       "      <td>1</td>\n",
       "    </tr>\n",
       "    <tr>\n",
       "      <th>4</th>\n",
       "      <td>70</td>\n",
       "      <td>81</td>\n",
       "      <td>119</td>\n",
       "      <td>1</td>\n",
       "    </tr>\n",
       "  </tbody>\n",
       "</table>\n",
       "</div>"
      ],
      "text/plain": [
       "    B   G    R  y\n",
       "0  74  85  123  1\n",
       "1  73  84  122  1\n",
       "2  72  83  121  1\n",
       "3  70  81  119  1\n",
       "4  70  81  119  1"
      ]
     },
     "execution_count": 1,
     "metadata": {},
     "output_type": "execute_result"
    }
   ],
   "source": [
    "## Se cargan los datos usando la librearía de UCIM como se indica en la página\n",
    "import numpy as np\n",
    "import pandas as pd\n",
    "import seaborn as sns\n",
    "import matplotlib.pyplot as plt\n",
    "from ucimlrepo import fetch_ucirepo \n",
    "\n",
    "np.random.seed(seed=1)\n",
    "\n",
    "# fetch dataset \n",
    "loaded_dataset = fetch_ucirepo(id=229) \n",
    "  \n",
    "# data (as pandas dataframes) \n",
    "X = loaded_dataset.data.features \n",
    "y = loaded_dataset.data.targets\n",
    "\n",
    "obj_var = y.columns[0]\n",
    "\n",
    "## Concat data to get an unique dataframe\n",
    "df = pd.concat([X, y], axis=1)\n",
    "df.head()"
   ]
  },
  {
   "cell_type": "markdown",
   "metadata": {},
   "source": [
    "### 2. Preprocessing data"
   ]
  },
  {
   "cell_type": "code",
   "execution_count": 2,
   "metadata": {},
   "outputs": [
    {
     "name": "stdout",
     "output_type": "stream",
     "text": [
      "Total rows=245057\n",
      "Total cols=4\n"
     ]
    }
   ],
   "source": [
    "## data length\n",
    "rows, cols = df.shape\n",
    "print(f'Total {rows=}')\n",
    "print(f'Total {cols=}')"
   ]
  },
  {
   "cell_type": "code",
   "execution_count": 3,
   "metadata": {},
   "outputs": [
    {
     "name": "stdout",
     "output_type": "stream",
     "text": [
      "<class 'pandas.core.frame.DataFrame'>\n",
      "RangeIndex: 245057 entries, 0 to 245056\n",
      "Data columns (total 4 columns):\n",
      " #   Column  Non-Null Count   Dtype\n",
      "---  ------  --------------   -----\n",
      " 0   B       245057 non-null  int64\n",
      " 1   G       245057 non-null  int64\n",
      " 2   R       245057 non-null  int64\n",
      " 3   y       245057 non-null  int64\n",
      "dtypes: int64(4)\n",
      "memory usage: 7.5 MB\n"
     ]
    }
   ],
   "source": [
    "## Data types:\n",
    "df.info()"
   ]
  },
  {
   "cell_type": "code",
   "execution_count": 4,
   "metadata": {},
   "outputs": [
    {
     "data": {
      "text/html": [
       "<div>\n",
       "<style scoped>\n",
       "    .dataframe tbody tr th:only-of-type {\n",
       "        vertical-align: middle;\n",
       "    }\n",
       "\n",
       "    .dataframe tbody tr th {\n",
       "        vertical-align: top;\n",
       "    }\n",
       "\n",
       "    .dataframe thead th {\n",
       "        text-align: right;\n",
       "    }\n",
       "</style>\n",
       "<table border=\"1\" class=\"dataframe\">\n",
       "  <thead>\n",
       "    <tr style=\"text-align: right;\">\n",
       "      <th></th>\n",
       "      <th>B</th>\n",
       "      <th>G</th>\n",
       "      <th>R</th>\n",
       "      <th>y</th>\n",
       "    </tr>\n",
       "  </thead>\n",
       "  <tbody>\n",
       "    <tr>\n",
       "      <th>count</th>\n",
       "      <td>245057.000000</td>\n",
       "      <td>245057.000000</td>\n",
       "      <td>245057.000000</td>\n",
       "      <td>245057.000000</td>\n",
       "    </tr>\n",
       "    <tr>\n",
       "      <th>mean</th>\n",
       "      <td>125.065446</td>\n",
       "      <td>132.507327</td>\n",
       "      <td>123.177151</td>\n",
       "      <td>1.792461</td>\n",
       "    </tr>\n",
       "    <tr>\n",
       "      <th>std</th>\n",
       "      <td>62.255653</td>\n",
       "      <td>59.941197</td>\n",
       "      <td>72.562165</td>\n",
       "      <td>0.405546</td>\n",
       "    </tr>\n",
       "    <tr>\n",
       "      <th>min</th>\n",
       "      <td>0.000000</td>\n",
       "      <td>0.000000</td>\n",
       "      <td>0.000000</td>\n",
       "      <td>1.000000</td>\n",
       "    </tr>\n",
       "    <tr>\n",
       "      <th>25%</th>\n",
       "      <td>68.000000</td>\n",
       "      <td>87.000000</td>\n",
       "      <td>70.000000</td>\n",
       "      <td>2.000000</td>\n",
       "    </tr>\n",
       "    <tr>\n",
       "      <th>50%</th>\n",
       "      <td>139.000000</td>\n",
       "      <td>153.000000</td>\n",
       "      <td>128.000000</td>\n",
       "      <td>2.000000</td>\n",
       "    </tr>\n",
       "    <tr>\n",
       "      <th>75%</th>\n",
       "      <td>176.000000</td>\n",
       "      <td>177.000000</td>\n",
       "      <td>164.000000</td>\n",
       "      <td>2.000000</td>\n",
       "    </tr>\n",
       "    <tr>\n",
       "      <th>max</th>\n",
       "      <td>255.000000</td>\n",
       "      <td>255.000000</td>\n",
       "      <td>255.000000</td>\n",
       "      <td>2.000000</td>\n",
       "    </tr>\n",
       "  </tbody>\n",
       "</table>\n",
       "</div>"
      ],
      "text/plain": [
       "                   B              G              R              y\n",
       "count  245057.000000  245057.000000  245057.000000  245057.000000\n",
       "mean      125.065446     132.507327     123.177151       1.792461\n",
       "std        62.255653      59.941197      72.562165       0.405546\n",
       "min         0.000000       0.000000       0.000000       1.000000\n",
       "25%        68.000000      87.000000      70.000000       2.000000\n",
       "50%       139.000000     153.000000     128.000000       2.000000\n",
       "75%       176.000000     177.000000     164.000000       2.000000\n",
       "max       255.000000     255.000000     255.000000       2.000000"
      ]
     },
     "metadata": {},
     "output_type": "display_data"
    },
    {
     "data": {
      "image/png": "[encoded data removed]",
      "text/plain": [
       "<Figure size 640x480 with 1 Axes>"
      ]
     },
     "metadata": {},
     "output_type": "display_data"
    }
   ],
   "source": [
    "## Box plot by attrib\n",
    "display(df.describe())\n",
    "\n",
    "plt.boxplot(df)\n",
    "plt.show()"
   ]
  },
  {
   "cell_type": "code",
   "execution_count": 5,
   "metadata": {},
   "outputs": [
    {
     "data": {
      "image/png": "[encoded data removed]",
      "text/plain": [
       "<Figure size 640x480 with 2 Axes>"
      ]
     },
     "metadata": {},
     "output_type": "display_data"
    }
   ],
   "source": [
    "# Calculate the correlation matrix\n",
    "corr_matrix = df.corr()\n",
    "\n",
    "# Create a heatmap\n",
    "sns.heatmap(corr_matrix, annot=True, cmap='coolwarm', fmt=\".2f\")\n",
    "plt.title('Correlation Matrix')\n",
    "plt.show()"
   ]
  },
  {
   "cell_type": "code",
   "execution_count": 6,
   "metadata": {},
   "outputs": [
    {
     "data": {
      "text/plain": [
       "y\n",
       "2    194198\n",
       "1     50859\n",
       "Name: count, dtype: int64"
      ]
     },
     "execution_count": 6,
     "metadata": {},
     "output_type": "execute_result"
    }
   ],
   "source": [
    "## Count prediction varaible objetive labels distribution\n",
    "df[obj_var].value_counts()"
   ]
  },
  {
   "cell_type": "code",
   "execution_count": 7,
   "metadata": {},
   "outputs": [
    {
     "data": {
      "text/plain": [
       "B    0\n",
       "G    0\n",
       "R    0\n",
       "y    0\n",
       "dtype: int64"
      ]
     },
     "metadata": {},
     "output_type": "display_data"
    }
   ],
   "source": [
    "## Null values\n",
    "display(df.isnull().sum(axis=0))"
   ]
  },
  {
   "cell_type": "code",
   "execution_count": 8,
   "metadata": {},
   "outputs": [
    {
     "data": {
      "text/html": [
       "<div>\n",
       "<style scoped>\n",
       "    .dataframe tbody tr th:only-of-type {\n",
       "        vertical-align: middle;\n",
       "    }\n",
       "\n",
       "    .dataframe tbody tr th {\n",
       "        vertical-align: top;\n",
       "    }\n",
       "\n",
       "    .dataframe thead th {\n",
       "        text-align: right;\n",
       "    }\n",
       "</style>\n",
       "<table border=\"1\" class=\"dataframe\">\n",
       "  <thead>\n",
       "    <tr style=\"text-align: right;\">\n",
       "      <th></th>\n",
       "      <th>B</th>\n",
       "      <th>G</th>\n",
       "      <th>R</th>\n",
       "      <th>y</th>\n",
       "    </tr>\n",
       "  </thead>\n",
       "  <tbody>\n",
       "    <tr>\n",
       "      <th>146088</th>\n",
       "      <td>4</td>\n",
       "      <td>0</td>\n",
       "      <td>5</td>\n",
       "      <td>2</td>\n",
       "    </tr>\n",
       "    <tr>\n",
       "      <th>206154</th>\n",
       "      <td>23</td>\n",
       "      <td>194</td>\n",
       "      <td>248</td>\n",
       "      <td>2</td>\n",
       "    </tr>\n",
       "    <tr>\n",
       "      <th>133069</th>\n",
       "      <td>196</td>\n",
       "      <td>195</td>\n",
       "      <td>157</td>\n",
       "      <td>2</td>\n",
       "    </tr>\n",
       "    <tr>\n",
       "      <th>110870</th>\n",
       "      <td>11</td>\n",
       "      <td>11</td>\n",
       "      <td>0</td>\n",
       "      <td>2</td>\n",
       "    </tr>\n",
       "    <tr>\n",
       "      <th>178123</th>\n",
       "      <td>179</td>\n",
       "      <td>174</td>\n",
       "      <td>149</td>\n",
       "      <td>2</td>\n",
       "    </tr>\n",
       "    <tr>\n",
       "      <th>243563</th>\n",
       "      <td>11</td>\n",
       "      <td>9</td>\n",
       "      <td>9</td>\n",
       "      <td>2</td>\n",
       "    </tr>\n",
       "    <tr>\n",
       "      <th>81193</th>\n",
       "      <td>63</td>\n",
       "      <td>63</td>\n",
       "      <td>23</td>\n",
       "      <td>2</td>\n",
       "    </tr>\n",
       "    <tr>\n",
       "      <th>118712</th>\n",
       "      <td>65</td>\n",
       "      <td>69</td>\n",
       "      <td>34</td>\n",
       "      <td>2</td>\n",
       "    </tr>\n",
       "    <tr>\n",
       "      <th>24152</th>\n",
       "      <td>67</td>\n",
       "      <td>116</td>\n",
       "      <td>172</td>\n",
       "      <td>1</td>\n",
       "    </tr>\n",
       "    <tr>\n",
       "      <th>131831</th>\n",
       "      <td>153</td>\n",
       "      <td>152</td>\n",
       "      <td>114</td>\n",
       "      <td>2</td>\n",
       "    </tr>\n",
       "  </tbody>\n",
       "</table>\n",
       "</div>"
      ],
      "text/plain": [
       "          B    G    R  y\n",
       "146088    4    0    5  2\n",
       "206154   23  194  248  2\n",
       "133069  196  195  157  2\n",
       "110870   11   11    0  2\n",
       "178123  179  174  149  2\n",
       "243563   11    9    9  2\n",
       "81193    63   63   23  2\n",
       "118712   65   69   34  2\n",
       "24152    67  116  172  1\n",
       "131831  153  152  114  2"
      ]
     },
     "execution_count": 8,
     "metadata": {},
     "output_type": "execute_result"
    }
   ],
   "source": [
    "df.sample(10)"
   ]
  },
  {
   "cell_type": "code",
   "execution_count": 9,
   "metadata": {},
   "outputs": [
    {
     "name": "stderr",
     "output_type": "stream",
     "text": [
      "C:\\Users\\ccsar\\AppData\\Local\\Temp\\ipykernel_17312\\263310703.py:3: DeprecationWarning: DataFrameGroupBy.apply operated on the grouping columns. This behavior is deprecated, and in a future version of pandas the grouping columns will be excluded from the operation. Either pass `include_groups=False` to exclude the groupings or explicitly select the grouping columns after groupby to silence this warning.\n",
      "  balanced_df = pd.DataFrame(g.apply(lambda x: x.sample(g.size().min()).reset_index(drop=True)))\n"
     ]
    },
    {
     "data": {
      "text/html": [
       "<div>\n",
       "<style scoped>\n",
       "    .dataframe tbody tr th:only-of-type {\n",
       "        vertical-align: middle;\n",
       "    }\n",
       "\n",
       "    .dataframe tbody tr th {\n",
       "        vertical-align: top;\n",
       "    }\n",
       "\n",
       "    .dataframe thead th {\n",
       "        text-align: right;\n",
       "    }\n",
       "</style>\n",
       "<table border=\"1\" class=\"dataframe\">\n",
       "  <thead>\n",
       "    <tr style=\"text-align: right;\">\n",
       "      <th></th>\n",
       "      <th></th>\n",
       "      <th>B</th>\n",
       "      <th>G</th>\n",
       "      <th>R</th>\n",
       "      <th>y</th>\n",
       "    </tr>\n",
       "    <tr>\n",
       "      <th>y</th>\n",
       "      <th></th>\n",
       "      <th></th>\n",
       "      <th></th>\n",
       "      <th></th>\n",
       "      <th></th>\n",
       "    </tr>\n",
       "  </thead>\n",
       "  <tbody>\n",
       "    <tr>\n",
       "      <th rowspan=\"5\" valign=\"top\">1</th>\n",
       "      <th>0</th>\n",
       "      <td>168</td>\n",
       "      <td>184</td>\n",
       "      <td>230</td>\n",
       "      <td>1</td>\n",
       "    </tr>\n",
       "    <tr>\n",
       "      <th>1</th>\n",
       "      <td>168</td>\n",
       "      <td>184</td>\n",
       "      <td>237</td>\n",
       "      <td>1</td>\n",
       "    </tr>\n",
       "    <tr>\n",
       "      <th>2</th>\n",
       "      <td>67</td>\n",
       "      <td>126</td>\n",
       "      <td>188</td>\n",
       "      <td>1</td>\n",
       "    </tr>\n",
       "    <tr>\n",
       "      <th>3</th>\n",
       "      <td>128</td>\n",
       "      <td>166</td>\n",
       "      <td>220</td>\n",
       "      <td>1</td>\n",
       "    </tr>\n",
       "    <tr>\n",
       "      <th>4</th>\n",
       "      <td>149</td>\n",
       "      <td>191</td>\n",
       "      <td>255</td>\n",
       "      <td>1</td>\n",
       "    </tr>\n",
       "    <tr>\n",
       "      <th>...</th>\n",
       "      <th>...</th>\n",
       "      <td>...</td>\n",
       "      <td>...</td>\n",
       "      <td>...</td>\n",
       "      <td>...</td>\n",
       "    </tr>\n",
       "    <tr>\n",
       "      <th rowspan=\"5\" valign=\"top\">2</th>\n",
       "      <th>50854</th>\n",
       "      <td>23</td>\n",
       "      <td>21</td>\n",
       "      <td>3</td>\n",
       "      <td>2</td>\n",
       "    </tr>\n",
       "    <tr>\n",
       "      <th>50855</th>\n",
       "      <td>45</td>\n",
       "      <td>46</td>\n",
       "      <td>12</td>\n",
       "      <td>2</td>\n",
       "    </tr>\n",
       "    <tr>\n",
       "      <th>50856</th>\n",
       "      <td>196</td>\n",
       "      <td>195</td>\n",
       "      <td>157</td>\n",
       "      <td>2</td>\n",
       "    </tr>\n",
       "    <tr>\n",
       "      <th>50857</th>\n",
       "      <td>180</td>\n",
       "      <td>177</td>\n",
       "      <td>133</td>\n",
       "      <td>2</td>\n",
       "    </tr>\n",
       "    <tr>\n",
       "      <th>50858</th>\n",
       "      <td>61</td>\n",
       "      <td>65</td>\n",
       "      <td>24</td>\n",
       "      <td>2</td>\n",
       "    </tr>\n",
       "  </tbody>\n",
       "</table>\n",
       "<p>101718 rows × 4 columns</p>\n",
       "</div>"
      ],
      "text/plain": [
       "           B    G    R  y\n",
       "y                        \n",
       "1 0      168  184  230  1\n",
       "  1      168  184  237  1\n",
       "  2       67  126  188  1\n",
       "  3      128  166  220  1\n",
       "  4      149  191  255  1\n",
       "...      ...  ...  ... ..\n",
       "2 50854   23   21    3  2\n",
       "  50855   45   46   12  2\n",
       "  50856  196  195  157  2\n",
       "  50857  180  177  133  2\n",
       "  50858   61   65   24  2\n",
       "\n",
       "[101718 rows x 4 columns]"
      ]
     },
     "execution_count": 9,
     "metadata": {},
     "output_type": "execute_result"
    }
   ],
   "source": [
    "## There is a class imbalance so\n",
    "g = df.groupby(obj_var)\n",
    "balanced_df = pd.DataFrame(g.apply(lambda x: x.sample(g.size().min()).reset_index(drop=True)))\n",
    "balanced_df"
   ]
  },
  {
   "cell_type": "code",
   "execution_count": 10,
   "metadata": {},
   "outputs": [],
   "source": [
    "## Transforming cathegorical data:\n",
    "from sklearn.preprocessing import scale\n",
    "\n",
    "## scale numerical data\n",
    "numerical_cols = ['R', 'G', 'B']\n",
    "for col in numerical_cols:\n",
    "    balanced_df[col] = scale(balanced_df[col])"
   ]
  },
  {
   "cell_type": "code",
   "execution_count": 11,
   "metadata": {},
   "outputs": [],
   "source": [
    "# ## Manage outliers\n",
    "# from pyod.models.knn import KNN   # kNN detector\n",
    "\n",
    "# # train kNN detector\n",
    "# clf_name = 'KNN'\n",
    "# clf = KNN()\n",
    "# clf.fit(balanced_df)\n",
    "\n",
    "# outlier, outlier_confidence = clf.predict(balanced_df, return_confidence=True)\n",
    "# pd.Series(outlier).value_counts()"
   ]
  },
  {
   "cell_type": "markdown",
   "metadata": {},
   "source": [
    "### 3. Modelling"
   ]
  },
  {
   "cell_type": "code",
   "execution_count": 12,
   "metadata": {},
   "outputs": [
    {
     "data": {
      "text/plain": [
       "array([[4830,  156],\n",
       "       [ 415, 4771]])"
      ]
     },
     "metadata": {},
     "output_type": "display_data"
    },
    {
     "data": {
      "text/plain": [
       "array([[4968,  158],\n",
       "       [ 387, 4659]])"
      ]
     },
     "metadata": {},
     "output_type": "display_data"
    },
    {
     "data": {
      "text/plain": [
       "array([[4888,  173],\n",
       "       [ 417, 4694]])"
      ]
     },
     "metadata": {},
     "output_type": "display_data"
    },
    {
     "data": {
      "text/plain": [
       "array([[4957,  168],\n",
       "       [ 406, 4641]])"
      ]
     },
     "metadata": {},
     "output_type": "display_data"
    },
    {
     "data": {
      "text/plain": [
       "array([[4929,  150],\n",
       "       [ 419, 4674]])"
      ]
     },
     "metadata": {},
     "output_type": "display_data"
    },
    {
     "data": {
      "text/plain": [
       "array([[4900,  201],\n",
       "       [ 407, 4664]])"
      ]
     },
     "metadata": {},
     "output_type": "display_data"
    },
    {
     "data": {
      "text/plain": [
       "array([[4871,  162],\n",
       "       [ 419, 4720]])"
      ]
     },
     "metadata": {},
     "output_type": "display_data"
    },
    {
     "data": {
      "text/plain": [
       "array([[4929,  190],\n",
       "       [ 432, 4621]])"
      ]
     },
     "metadata": {},
     "output_type": "display_data"
    },
    {
     "data": {
      "text/plain": [
       "array([[4880,  172],\n",
       "       [ 435, 4684]])"
      ]
     },
     "metadata": {},
     "output_type": "display_data"
    },
    {
     "data": {
      "text/plain": [
       "array([[4993,  184],\n",
       "       [ 401, 4593]])"
      ]
     },
     "metadata": {},
     "output_type": "display_data"
    },
    {
     "data": {
      "text/html": [
       "<div>\n",
       "<style scoped>\n",
       "    .dataframe tbody tr th:only-of-type {\n",
       "        vertical-align: middle;\n",
       "    }\n",
       "\n",
       "    .dataframe tbody tr th {\n",
       "        vertical-align: top;\n",
       "    }\n",
       "\n",
       "    .dataframe thead th {\n",
       "        text-align: right;\n",
       "    }\n",
       "</style>\n",
       "<table border=\"1\" class=\"dataframe\">\n",
       "  <thead>\n",
       "    <tr style=\"text-align: right;\">\n",
       "      <th></th>\n",
       "      <th>accuracy</th>\n",
       "      <th>precision</th>\n",
       "      <th>recall</th>\n",
       "      <th>f1_score</th>\n",
       "      <th>support</th>\n",
       "      <th>specificity</th>\n",
       "    </tr>\n",
       "  </thead>\n",
       "  <tbody>\n",
       "    <tr>\n",
       "      <th>0</th>\n",
       "      <td>0.943866</td>\n",
       "      <td>0.944607</td>\n",
       "      <td>0.944345</td>\n",
       "      <td>0.943864</td>\n",
       "      <td>10172.0</td>\n",
       "      <td>0.968712</td>\n",
       "    </tr>\n",
       "    <tr>\n",
       "      <th>1</th>\n",
       "      <td>0.946422</td>\n",
       "      <td>0.947465</td>\n",
       "      <td>0.946241</td>\n",
       "      <td>0.946372</td>\n",
       "      <td>10172.0</td>\n",
       "      <td>0.969177</td>\n",
       "    </tr>\n",
       "    <tr>\n",
       "      <th>2</th>\n",
       "      <td>0.941998</td>\n",
       "      <td>0.942925</td>\n",
       "      <td>0.942114</td>\n",
       "      <td>0.941977</td>\n",
       "      <td>10172.0</td>\n",
       "      <td>0.965817</td>\n",
       "    </tr>\n",
       "    <tr>\n",
       "      <th>3</th>\n",
       "      <td>0.943571</td>\n",
       "      <td>0.944681</td>\n",
       "      <td>0.943388</td>\n",
       "      <td>0.943516</td>\n",
       "      <td>10172.0</td>\n",
       "      <td>0.967220</td>\n",
       "    </tr>\n",
       "    <tr>\n",
       "      <th>4</th>\n",
       "      <td>0.944062</td>\n",
       "      <td>0.945279</td>\n",
       "      <td>0.944098</td>\n",
       "      <td>0.944027</td>\n",
       "      <td>10172.0</td>\n",
       "      <td>0.970467</td>\n",
       "    </tr>\n",
       "    <tr>\n",
       "      <th>5</th>\n",
       "      <td>0.940228</td>\n",
       "      <td>0.940997</td>\n",
       "      <td>0.940168</td>\n",
       "      <td>0.940196</td>\n",
       "      <td>10172.0</td>\n",
       "      <td>0.960596</td>\n",
       "    </tr>\n",
       "    <tr>\n",
       "      <th>6</th>\n",
       "      <td>0.942882</td>\n",
       "      <td>0.943805</td>\n",
       "      <td>0.943140</td>\n",
       "      <td>0.942870</td>\n",
       "      <td>10172.0</td>\n",
       "      <td>0.967812</td>\n",
       "    </tr>\n",
       "    <tr>\n",
       "      <th>7</th>\n",
       "      <td>0.938852</td>\n",
       "      <td>0.939963</td>\n",
       "      <td>0.938695</td>\n",
       "      <td>0.938796</td>\n",
       "      <td>10172.0</td>\n",
       "      <td>0.962883</td>\n",
       "    </tr>\n",
       "    <tr>\n",
       "      <th>8</th>\n",
       "      <td>0.940321</td>\n",
       "      <td>0.941368</td>\n",
       "      <td>0.940488</td>\n",
       "      <td>0.940298</td>\n",
       "      <td>10171.0</td>\n",
       "      <td>0.965954</td>\n",
       "    </tr>\n",
       "    <tr>\n",
       "      <th>9</th>\n",
       "      <td>0.942484</td>\n",
       "      <td>0.943570</td>\n",
       "      <td>0.942081</td>\n",
       "      <td>0.942394</td>\n",
       "      <td>10171.0</td>\n",
       "      <td>0.964458</td>\n",
       "    </tr>\n",
       "  </tbody>\n",
       "</table>\n",
       "</div>"
      ],
      "text/plain": [
       "   accuracy  precision    recall  f1_score  support  specificity\n",
       "0  0.943866   0.944607  0.944345  0.943864  10172.0     0.968712\n",
       "1  0.946422   0.947465  0.946241  0.946372  10172.0     0.969177\n",
       "2  0.941998   0.942925  0.942114  0.941977  10172.0     0.965817\n",
       "3  0.943571   0.944681  0.943388  0.943516  10172.0     0.967220\n",
       "4  0.944062   0.945279  0.944098  0.944027  10172.0     0.970467\n",
       "5  0.940228   0.940997  0.940168  0.940196  10172.0     0.960596\n",
       "6  0.942882   0.943805  0.943140  0.942870  10172.0     0.967812\n",
       "7  0.938852   0.939963  0.938695  0.938796  10172.0     0.962883\n",
       "8  0.940321   0.941368  0.940488  0.940298  10171.0     0.965954\n",
       "9  0.942484   0.943570  0.942081  0.942394  10171.0     0.964458"
      ]
     },
     "execution_count": 12,
     "metadata": {},
     "output_type": "execute_result"
    }
   ],
   "source": [
    "## USING K-FOLDS\n",
    "from sklearn.linear_model import LogisticRegression\n",
    "from sklearn import metrics\n",
    "from sklearn.model_selection import KFold, cross_val_score\n",
    "\n",
    "# prepare the K-Fold cross-validation procedure\n",
    "n_splits = 10\n",
    "cv = KFold(n_splits=n_splits)\n",
    "\n",
    "## Shuffle dataframe\n",
    "balanced_df = balanced_df.sample(n=101718)\n",
    "\n",
    "res = []\n",
    "matrix = []\n",
    "for train, test in cv.split(balanced_df):\n",
    "\n",
    "    ## Split data\n",
    "    y_train = balanced_df.iloc[train]['y']\n",
    "    X_train = balanced_df.iloc[train][['R', 'G', 'B']]\n",
    "    y_test = balanced_df.iloc[test]['y']\n",
    "    X_test = balanced_df.iloc[test][['R', 'G', 'B']]\n",
    "    \n",
    "    ## Train model\n",
    "    logisticRegr = LogisticRegression(solver=\"lbfgs\", max_iter=500, tol=0.01)\n",
    "    logisticRegr.fit(X_train, y_train)\n",
    "\n",
    "    ## Prediction\n",
    "    predictions = logisticRegr.predict(X_test)\n",
    "\n",
    "    ## Confusion matrix\n",
    "    confusion_matrix = metrics.confusion_matrix(np.array(y_test), predictions)\n",
    "    matrix.append(confusion_matrix)\n",
    "    tn, fp, fn, tp = confusion_matrix.ravel()\n",
    "    specificity = tn / (tn+fp)\n",
    "    display(confusion_matrix)\n",
    "\n",
    "    ## Extract metrics from models\n",
    "    model_metrics = metrics.classification_report(np.array(y_test), predictions, output_dict=True)\n",
    "    accuracy = model_metrics['accuracy']\n",
    "    precision, recall, f1_score, support = model_metrics['macro avg'].values()\n",
    "    res.append([accuracy, precision, recall, f1_score, support, specificity])\n",
    "\n",
    "cols = ['accuracy', 'precision', 'recall', 'f1_score', 'support', 'specificity']\n",
    "results = pd.DataFrame(res, columns=cols)\n",
    "results"
   ]
  },
  {
   "cell_type": "code",
   "execution_count": 13,
   "metadata": {},
   "outputs": [
    {
     "data": {
      "text/plain": [
       "array([[4914.5,  171.4],\n",
       "       [ 413.8, 4672.1]])"
      ]
     },
     "metadata": {},
     "output_type": "display_data"
    },
    {
     "name": "stdout",
     "output_type": "stream",
     "text": [
      "Accuracy: 0.9425\n",
      "Precision: 0.9646\n",
      "Recall: 0.9186\n",
      "F1 Score: 0.9411\n",
      "Support: 5085.900000000001\n",
      "Specificity: 0.9663\n"
     ]
    }
   ],
   "source": [
    "## K-Fold mean matrix\n",
    "mean_matrix = np.mean(matrix, axis=0)\n",
    "display(mean_matrix)\n",
    "\n",
    "# Extract the values from the confusion matrix\n",
    "tn, fp, fn, tp = mean_matrix.ravel()\n",
    "\n",
    "# Calculate metrics\n",
    "accuracy = (tp + tn) / (tp + tn + fp + fn)  # Total correct predictions / Total predictions\n",
    "precision = tp / (tp + fp) if (tp + fp) > 0 else 0  # TP / (TP + FP)\n",
    "recall = tp / (tp + fn) if (tp + fn) > 0 else 0  # TP / (TP + FN)\n",
    "f1_score = 2 * (precision * recall) / (precision + recall) if (precision + recall) > 0 else 0  # Harmonic mean of precision and recall\n",
    "support = tp + fn  # Total actual positive cases\n",
    "specificity = tn / (tn + fp) if (tn + fp) > 0 else 0  # TN / (TN + FP)\n",
    "\n",
    "# Print the results\n",
    "print(f\"Accuracy: {accuracy:.4f}\")\n",
    "print(f\"Precision: {precision:.4f}\")\n",
    "print(f\"Recall: {recall:.4f}\")\n",
    "print(f\"F1 Score: {f1_score:.4f}\")\n",
    "print(f\"Support: {support}\")\n",
    "print(f\"Specificity: {specificity:.4f}\")"
   ]
  },
  {
   "cell_type": "code",
   "execution_count": 15,
   "metadata": {},
   "outputs": [
    {
     "data": {
      "text/plain": [
       "array([[14726,   505],\n",
       "       [ 1262, 14023]])"
      ]
     },
     "metadata": {},
     "output_type": "display_data"
    },
    {
     "data": {
      "text/plain": [
       "array([[14741,   520],\n",
       "       [ 1246, 14009]])"
      ]
     },
     "metadata": {},
     "output_type": "display_data"
    },
    {
     "data": {
      "text/plain": [
       "array([[14726,   514],\n",
       "       [ 1256, 14020]])"
      ]
     },
     "metadata": {},
     "output_type": "display_data"
    },
    {
     "data": {
      "text/plain": [
       "array([[14569,   538],\n",
       "       [ 1245, 14164]])"
      ]
     },
     "metadata": {},
     "output_type": "display_data"
    },
    {
     "data": {
      "text/plain": [
       "array([[14656,   563],\n",
       "       [ 1211, 14086]])"
      ]
     },
     "metadata": {},
     "output_type": "display_data"
    },
    {
     "data": {
      "text/plain": [
       "array([[14757,   594],\n",
       "       [ 1261, 13904]])"
      ]
     },
     "metadata": {},
     "output_type": "display_data"
    },
    {
     "data": {
      "text/plain": [
       "array([[14708,   563],\n",
       "       [ 1242, 14003]])"
      ]
     },
     "metadata": {},
     "output_type": "display_data"
    },
    {
     "data": {
      "text/plain": [
       "array([[14713,   494],\n",
       "       [ 1249, 14060]])"
      ]
     },
     "metadata": {},
     "output_type": "display_data"
    },
    {
     "data": {
      "text/plain": [
       "array([[14734,   526],\n",
       "       [ 1257, 13999]])"
      ]
     },
     "metadata": {},
     "output_type": "display_data"
    },
    {
     "data": {
      "text/plain": [
       "array([[14676,   521],\n",
       "       [ 1230, 14089]])"
      ]
     },
     "metadata": {},
     "output_type": "display_data"
    },
    {
     "data": {
      "text/html": [
       "<div>\n",
       "<style scoped>\n",
       "    .dataframe tbody tr th:only-of-type {\n",
       "        vertical-align: middle;\n",
       "    }\n",
       "\n",
       "    .dataframe tbody tr th {\n",
       "        vertical-align: top;\n",
       "    }\n",
       "\n",
       "    .dataframe thead th {\n",
       "        text-align: right;\n",
       "    }\n",
       "</style>\n",
       "<table border=\"1\" class=\"dataframe\">\n",
       "  <thead>\n",
       "    <tr style=\"text-align: right;\">\n",
       "      <th></th>\n",
       "      <th>accuracy</th>\n",
       "      <th>precision</th>\n",
       "      <th>recall</th>\n",
       "      <th>f1_score</th>\n",
       "      <th>support</th>\n",
       "      <th>specificity</th>\n",
       "    </tr>\n",
       "  </thead>\n",
       "  <tbody>\n",
       "    <tr>\n",
       "      <th>0</th>\n",
       "      <td>0.942096</td>\n",
       "      <td>0.943153</td>\n",
       "      <td>0.942140</td>\n",
       "      <td>0.942065</td>\n",
       "      <td>30516.0</td>\n",
       "      <td>0.966844</td>\n",
       "    </tr>\n",
       "    <tr>\n",
       "      <th>1</th>\n",
       "      <td>0.942129</td>\n",
       "      <td>0.943136</td>\n",
       "      <td>0.942124</td>\n",
       "      <td>0.942095</td>\n",
       "      <td>30516.0</td>\n",
       "      <td>0.965926</td>\n",
       "    </tr>\n",
       "    <tr>\n",
       "      <th>2</th>\n",
       "      <td>0.941998</td>\n",
       "      <td>0.943023</td>\n",
       "      <td>0.942026</td>\n",
       "      <td>0.941967</td>\n",
       "      <td>30516.0</td>\n",
       "      <td>0.966273</td>\n",
       "    </tr>\n",
       "    <tr>\n",
       "      <th>3</th>\n",
       "      <td>0.941572</td>\n",
       "      <td>0.942339</td>\n",
       "      <td>0.941795</td>\n",
       "      <td>0.941561</td>\n",
       "      <td>30516.0</td>\n",
       "      <td>0.964387</td>\n",
       "    </tr>\n",
       "    <tr>\n",
       "      <th>4</th>\n",
       "      <td>0.941867</td>\n",
       "      <td>0.942623</td>\n",
       "      <td>0.941920</td>\n",
       "      <td>0.941846</td>\n",
       "      <td>30516.0</td>\n",
       "      <td>0.963007</td>\n",
       "    </tr>\n",
       "    <tr>\n",
       "      <th>5</th>\n",
       "      <td>0.939212</td>\n",
       "      <td>0.940152</td>\n",
       "      <td>0.939077</td>\n",
       "      <td>0.939165</td>\n",
       "      <td>30516.0</td>\n",
       "      <td>0.961305</td>\n",
       "    </tr>\n",
       "    <tr>\n",
       "      <th>6</th>\n",
       "      <td>0.940851</td>\n",
       "      <td>0.941740</td>\n",
       "      <td>0.940832</td>\n",
       "      <td>0.940819</td>\n",
       "      <td>30516.0</td>\n",
       "      <td>0.963133</td>\n",
       "    </tr>\n",
       "    <tr>\n",
       "      <th>7</th>\n",
       "      <td>0.942882</td>\n",
       "      <td>0.943905</td>\n",
       "      <td>0.942964</td>\n",
       "      <td>0.942856</td>\n",
       "      <td>30516.0</td>\n",
       "      <td>0.967515</td>\n",
       "    </tr>\n",
       "    <tr>\n",
       "      <th>8</th>\n",
       "      <td>0.941572</td>\n",
       "      <td>0.942590</td>\n",
       "      <td>0.941568</td>\n",
       "      <td>0.941538</td>\n",
       "      <td>30516.0</td>\n",
       "      <td>0.965531</td>\n",
       "    </tr>\n",
       "    <tr>\n",
       "      <th>9</th>\n",
       "      <td>0.942620</td>\n",
       "      <td>0.943505</td>\n",
       "      <td>0.942712</td>\n",
       "      <td>0.942599</td>\n",
       "      <td>30516.0</td>\n",
       "      <td>0.965717</td>\n",
       "    </tr>\n",
       "  </tbody>\n",
       "</table>\n",
       "</div>"
      ],
      "text/plain": [
       "   accuracy  precision    recall  f1_score  support  specificity\n",
       "0  0.942096   0.943153  0.942140  0.942065  30516.0     0.966844\n",
       "1  0.942129   0.943136  0.942124  0.942095  30516.0     0.965926\n",
       "2  0.941998   0.943023  0.942026  0.941967  30516.0     0.966273\n",
       "3  0.941572   0.942339  0.941795  0.941561  30516.0     0.964387\n",
       "4  0.941867   0.942623  0.941920  0.941846  30516.0     0.963007\n",
       "5  0.939212   0.940152  0.939077  0.939165  30516.0     0.961305\n",
       "6  0.940851   0.941740  0.940832  0.940819  30516.0     0.963133\n",
       "7  0.942882   0.943905  0.942964  0.942856  30516.0     0.967515\n",
       "8  0.941572   0.942590  0.941568  0.941538  30516.0     0.965531\n",
       "9  0.942620   0.943505  0.942712  0.942599  30516.0     0.965717"
      ]
     },
     "execution_count": 15,
     "metadata": {},
     "output_type": "execute_result"
    }
   ],
   "source": [
    "## RANDOM SUBSAMPLIG\n",
    "from sklearn.linear_model import LogisticRegression\n",
    "from sklearn import metrics\n",
    "from sklearn.model_selection import train_test_split\n",
    "\n",
    "# prepare the K-Fold cross-validation procedure\n",
    "n_splits = 10\n",
    "cv = KFold(n_splits=n_splits)\n",
    "\n",
    "## Shuffle dataframe\n",
    "balanced_df = balanced_df.sample(n=101718)\n",
    "\n",
    "res = []\n",
    "matrix = []\n",
    "for _ in range(10):\n",
    "\n",
    "    ## Define test_size as % of total data\n",
    "    test_size = 0.30\n",
    "\n",
    "    ## Divide dataframe into train and test data\n",
    "    divided_data = train_test_split(balanced_df.drop('y', axis=1), balanced_df['y'], test_size=test_size)\n",
    "    X_train, X_test, y_train, y_test = divided_data\n",
    "    \n",
    "    ## Train model\n",
    "    logisticRegr = LogisticRegression(solver=\"lbfgs\", max_iter=500, tol=0.01)\n",
    "    logisticRegr.fit(X_train, y_train)\n",
    "\n",
    "    ## Prediction\n",
    "    predictions = logisticRegr.predict(X_test)\n",
    "\n",
    "    ## Confusion matrix\n",
    "    confusion_matrix = metrics.confusion_matrix(np.array(y_test), predictions)\n",
    "    matrix.append(confusion_matrix)\n",
    "    tn, fp, fn, tp = confusion_matrix.ravel()\n",
    "    specificity = tn / (tn+fp)\n",
    "    display(confusion_matrix)\n",
    "\n",
    "    ## Extract metrics from models\n",
    "    model_metrics = metrics.classification_report(np.array(y_test), predictions, output_dict=True)\n",
    "    accuracy = model_metrics['accuracy']\n",
    "    precision, recall, f1_score, support = model_metrics['macro avg'].values()\n",
    "    res.append([accuracy, precision, recall, f1_score, support, specificity])\n",
    "\n",
    "cols = ['accuracy', 'precision', 'recall', 'f1_score', 'support','specificity']\n",
    "results = pd.DataFrame(res, columns=cols)\n",
    "results"
   ]
  },
  {
   "cell_type": "code",
   "execution_count": 16,
   "metadata": {},
   "outputs": [
    {
     "data": {
      "text/plain": [
       "array([[14700.6,   533.8],\n",
       "       [ 1245.9, 14035.7]])"
      ]
     },
     "metadata": {},
     "output_type": "display_data"
    },
    {
     "name": "stdout",
     "output_type": "stream",
     "text": [
      "Accuracy: 0.9417\n",
      "Precision: 0.9634\n",
      "Recall: 0.9185\n",
      "F1 Score: 0.9404\n",
      "Support: 15281.6\n",
      "Specificity: 0.9650\n"
     ]
    }
   ],
   "source": [
    "## K-Fold mean matrix\n",
    "mean_matrix = np.mean(matrix, axis=0)\n",
    "display(mean_matrix)\n",
    "\n",
    "# Extract the values from the confusion matrix\n",
    "tn, fp, fn, tp = mean_matrix.ravel()\n",
    "\n",
    "# Calculate metrics\n",
    "accuracy = (tp + tn) / (tp + tn + fp + fn)  # Total correct predictions / Total predictions\n",
    "precision = tp / (tp + fp) if (tp + fp) > 0 else 0  # TP / (TP + FP)\n",
    "recall = tp / (tp + fn) if (tp + fn) > 0 else 0  # TP / (TP + FN)\n",
    "f1_score = 2 * (precision * recall) / (precision + recall) if (precision + recall) > 0 else 0  # Harmonic mean of precision and recall\n",
    "support = tp + fn  # Total actual positive cases\n",
    "specificity = tn / (tn + fp) if (tn + fp) > 0 else 0  # TN / (TN + FP)\n",
    "\n",
    "# Print the results\n",
    "print(f\"Accuracy: {accuracy:.4f}\")\n",
    "print(f\"Precision: {precision:.4f}\")\n",
    "print(f\"Recall: {recall:.4f}\")\n",
    "print(f\"F1 Score: {f1_score:.4f}\")\n",
    "print(f\"Support: {support}\")\n",
    "print(f\"Specificity: {specificity:.4f}\")"
   ]
  },
  {
   "cell_type": "markdown",
   "metadata": {},
   "source": [
    "## Valoración del análisis:\n",
    "\n",
    "El modelo tiene un muy buen comportamiento con respecto a los datos presentados. Los esquemas de validación tienen un resultado muy similar. Existe un \"empate técnico\" entre los dos métodos de evaluación porque aunque los resultados de kFold son ligeramente mejores, tienen una desviación estándar ligeramente mayor que los del random subsamplig. Se concluye con los dos métodos de evaluación que el modelo es robusto, lo que nos permite afirmar que es un buen modelo predictivo.\n",
    "\n",
    "#### Resultados de kFold\n",
    "array([[4914.5,  171.4], <br>\n",
    "       [ 413.8, 4672.1]])\n",
    "* Accuracy: 0.9425\n",
    "* Precision: 0.9646\n",
    "* Recall: 0.9186\n",
    "* F1 Score: 0.9411\n",
    "* Support: 5085.900000000001\n",
    "* Specificity: 0.9663\n",
    "\n",
    "#### Resultados de random subsampling\n",
    "array([[14700.6,   533.8], <br>\n",
    "       [ 1245.9, 14035.7]])\n",
    "* Accuracy: 0.9417\n",
    "* Precision: 0.9634\n",
    "* Recall: 0.9185\n",
    "* F1 Score: 0.9404\n",
    "* Support: 15281.6\n",
    "* Specificity: 0.9650\n",
    "\n"
   ]
  }
 ],
 "metadata": {
  "kernelspec": {
   "display_name": "env_supervised_learning",
   "language": "python",
   "name": "python3"
  },
  "language_info": {
   "codemirror_mode": {
    "name": "ipython",
    "version": 3
   },
   "file_extension": ".py",
   "mimetype": "text/x-python",
   "name": "python",
   "nbconvert_exporter": "python",
   "pygments_lexer": "ipython3",
   "version": "3.11.9"
  }
 },
 "nbformat": 4,
 "nbformat_minor": 2
}
